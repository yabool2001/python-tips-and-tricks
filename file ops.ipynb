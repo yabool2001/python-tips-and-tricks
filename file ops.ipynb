{
 "cells": [
  {
   "cell_type": "code",
   "execution_count": 1,
   "metadata": {},
   "outputs": [
    {
     "ename": "SyntaxError",
     "evalue": "(unicode error) 'unicodeescape' codec can't decode bytes in position 2-3: truncated \\UXXXXXXXX escape (1868663971.py, line 2)",
     "output_type": "error",
     "traceback": [
      "\u001b[1;36m  Cell \u001b[1;32mIn[1], line 2\u001b[1;36m\u001b[0m\n\u001b[1;33m    with open ( 'C:\\Users\\mzeml\\python\\python-tips-and-tricks\\test.csv' , 'r' , encoding = 'utf-8' ) as file:\u001b[0m\n\u001b[1;37m                ^\u001b[0m\n\u001b[1;31mSyntaxError\u001b[0m\u001b[1;31m:\u001b[0m (unicode error) 'unicodeescape' codec can't decode bytes in position 2-3: truncated \\UXXXXXXXX escape\n"
     ]
    }
   ],
   "source": [
    "with open ( 'C:\\Users\\mzeml\\python\\python-tips-and-tricks\\test.csv' , 'r' , encoding = 'utf-8' ) as file:\n",
    "    file_content = file.read ()"
   ]
  },
  {
   "cell_type": "code",
   "execution_count": 2,
   "metadata": {},
   "outputs": [
    {
     "name": "stdout",
     "output_type": "stream",
     "text": [
      "kolumna1,kolumna2,kolumna3\n",
      "wiersz1,wiersz1,wiersz1\n",
      "wiersz2,wiersz2,wiersz2\n",
      "wiersz3,wiersz3,wiersz3\n"
     ]
    }
   ],
   "source": [
    "# Use r (raw text) if text contains special symbol \\\n",
    "with open ( r'C:\\Users\\mzeml\\python\\python-tips-and-tricks\\test.csv' , 'r' , encoding = 'utf-8' ) as file:\n",
    "    file_content = file.read ()"
   ]
  }
 ],
 "metadata": {
  "kernelspec": {
   "display_name": "Python 3",
   "language": "python",
   "name": "python3"
  },
  "language_info": {
   "codemirror_mode": {
    "name": "ipython",
    "version": 3
   },
   "file_extension": ".py",
   "mimetype": "text/x-python",
   "name": "python",
   "nbconvert_exporter": "python",
   "pygments_lexer": "ipython3",
   "version": "3.12.5"
  }
 },
 "nbformat": 4,
 "nbformat_minor": 2
}
